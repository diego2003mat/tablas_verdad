{
  "nbformat": 4,
  "nbformat_minor": 0,
  "metadata": {
    "colab": {
      "provenance": [],
      "collapsed_sections": []
    },
    "kernelspec": {
      "name": "python3",
      "display_name": "Python 3"
    },
    "language_info": {
      "name": "python"
    }
  },
  "cells": [
    {
      "cell_type": "code",
      "execution_count": null,
      "metadata": {
        "colab": {
          "base_uri": "https://localhost:8080/"
        },
        "id": "YZ4INhi8T6B_",
        "outputId": "ee010565-c3e7-4256-8e4c-60ccbe4e046a"
      },
      "outputs": [
        {
          "output_type": "stream",
          "name": "stdout",
          "text": [
            "p\tq\tp or q\n",
            "----------------------\n",
            "True\tTrue\tTrue\n",
            "True\tFalse\tTrue\n",
            "False\tTrue\tTrue\n",
            "False\tFalse\tFalse\n",
            "\n"
          ]
        }
      ],
      "source": [
        "booleanos = [True, False]\n",
        "\n",
        "# Tabla de verdad de or\n",
        "\n",
        "print('p\\tq\\tp or q')\n",
        "print('-'*22)\n",
        "for p in booleanos:\n",
        "    for q in booleanos:\n",
        "        print(p, q, p or q, sep = '\\t')\n",
        "\n",
        "print()"
      ]
    },
    {
      "cell_type": "code",
      "source": [
        "booleanos = [True, False]\n",
        "\n",
        "# Tabla de verdad de and\n",
        "print('p\\tq\\tp and q')\n",
        "print('-'*22)\n",
        "for p in booleanos:\n",
        "    for q in booleanos:\n",
        "        print(p, q, p and q, sep = '\\t')\n",
        "\n",
        "print()"
      ],
      "metadata": {
        "colab": {
          "base_uri": "https://localhost:8080/"
        },
        "id": "8o9UqW7gUgKc",
        "outputId": "3d66c7ef-e3ff-4f8b-8e6b-f12ef6c499c5"
      },
      "execution_count": null,
      "outputs": [
        {
          "output_type": "stream",
          "name": "stdout",
          "text": [
            "p\tq\tp and q\n",
            "----------------------\n",
            "True\tTrue\tTrue\n",
            "True\tFalse\tFalse\n",
            "False\tTrue\tFalse\n",
            "False\tFalse\tFalse\n",
            "\n"
          ]
        }
      ]
    },
    {
      "cell_type": "code",
      "source": [
        "# Tabla de verdad de not\n",
        "\n",
        "print('p\\tnot p')\n",
        "print('-'*13)\n",
        "for p in booleanos:\n",
        "    print(p, not p, sep = '\\t')\n",
        "\n",
        "print()"
      ],
      "metadata": {
        "colab": {
          "base_uri": "https://localhost:8080/"
        },
        "id": "lK1UvViXVdcG",
        "outputId": "0dc9cba6-cfb8-4f8b-d1e2-9e32d19e2059"
      },
      "execution_count": null,
      "outputs": [
        {
          "output_type": "stream",
          "name": "stdout",
          "text": [
            "p\tnot p\n",
            "-------------\n",
            "True\tFalse\n",
            "False\tTrue\n",
            "\n"
          ]
        }
      ]
    },
    {
      "cell_type": "code",
      "source": [
        "# Enigma de Lógica\n",
        "# Declaro la variable gente\n",
        "gente = var()\n",
        "\n",
        "# Defino las reglas\n",
        "reglas = lall(\n",
        "    # hay 4 personas\n",
        "    (eq, (var(), var(), var(), var()), gente),\n",
        "    # Esteban tiene un auto azul\n",
        "    (membero, ('Esteban', var(), 'azul', var()), gente),\n",
        "    # La persona que tiene un gato vive en España.\n",
        "    (membero, (var(), 'gato', var(), 'España'), gente),\n",
        "    # Matías vive en Argentina\n",
        "    (membero, ('Matías', var(), var(), 'Argentina'), gente),\n",
        "    # La persona con el auto negro vive en Brasil.\n",
        "    (membero, (var(), var(), 'Negro', 'Brasil'), gente),\n",
        "    # Juan tiene un gato.\n",
        "    (membero, ('Juan', 'gato', var(), var()), gente),\n",
        "    # Alex vive en Brasil\n",
        "    (membero, ('Alex', var(), var(), 'Brasil'), gente),\n",
        "    # La persona que tiene un perro vive en Colombia.\n",
        "    (membero, (var(), 'perro', var(), 'Colombia'), gente),\n",
        "    # ¿Quién tiene un conejo?\n",
        "    (membero, (var(), 'conejo', var(), var()), gente)\n",
        ")"
      ],
      "metadata": {
        "colab": {
          "base_uri": "https://localhost:8080/",
          "height": 235
        },
        "id": "WokLLhm5YDzE",
        "outputId": "343b57b0-4f28-4e7f-e107-863d39451588"
      },
      "execution_count": null,
      "outputs": [
        {
          "output_type": "error",
          "ename": "NameError",
          "evalue": "ignored",
          "traceback": [
            "\u001b[0;31m---------------------------------------------------------------------------\u001b[0m",
            "\u001b[0;31mNameError\u001b[0m                                 Traceback (most recent call last)",
            "\u001b[0;32m<ipython-input-13-d8c6b34fd704>\u001b[0m in \u001b[0;36m<module>\u001b[0;34m\u001b[0m\n\u001b[1;32m      1\u001b[0m \u001b[0;31m# Enigma de Lógica\u001b[0m\u001b[0;34m\u001b[0m\u001b[0;34m\u001b[0m\u001b[0;34m\u001b[0m\u001b[0m\n\u001b[1;32m      2\u001b[0m \u001b[0;31m# Declaro la variable gente\u001b[0m\u001b[0;34m\u001b[0m\u001b[0;34m\u001b[0m\u001b[0;34m\u001b[0m\u001b[0m\n\u001b[0;32m----> 3\u001b[0;31m \u001b[0mgente\u001b[0m \u001b[0;34m=\u001b[0m \u001b[0mvar\u001b[0m\u001b[0;34m(\u001b[0m\u001b[0;34m)\u001b[0m\u001b[0;34m\u001b[0m\u001b[0;34m\u001b[0m\u001b[0m\n\u001b[0m\u001b[1;32m      4\u001b[0m \u001b[0;34m\u001b[0m\u001b[0m\n\u001b[1;32m      5\u001b[0m \u001b[0;31m# Defino las reglas\u001b[0m\u001b[0;34m\u001b[0m\u001b[0;34m\u001b[0m\u001b[0;34m\u001b[0m\u001b[0m\n",
            "\u001b[0;31mNameError\u001b[0m: name 'var' is not defined"
          ]
        }
      ]
    }
  ]
}