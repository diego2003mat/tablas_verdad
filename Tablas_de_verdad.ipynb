{
  "nbformat": 4,
  "nbformat_minor": 0,
  "metadata": {
    "colab": {
      "provenance": [],
      "collapsed_sections": []
    },
    "kernelspec": {
      "name": "python3",
      "display_name": "Python 3"
    },
    "language_info": {
      "name": "python"
    }
  },
  "cells": [
    {
      "cell_type": "code",
      "execution_count": null,
      "metadata": {
        "colab": {
          "base_uri": "https://localhost:8080/"
        },
        "id": "YZ4INhi8T6B_",
        "outputId": "ee010565-c3e7-4256-8e4c-60ccbe4e046a"
      },
      "outputs": [
        {
          "output_type": "stream",
          "name": "stdout",
          "text": [
            "p\tq\tp or q\n",
            "----------------------\n",
            "True\tTrue\tTrue\n",
            "True\tFalse\tTrue\n",
            "False\tTrue\tTrue\n",
            "False\tFalse\tFalse\n",
            "\n"
          ]
        }
      ],
      "source": [
        "booleanos = [True, False]\n",
        "\n",
        "# Tabla de verdad de or\n",
        "\n",
        "print('p\\tq\\tp or q')\n",
        "print('-'*22)\n",
        "for p in booleanos:\n",
        "    for q in booleanos:\n",
        "        print(p, q, p or q, sep = '\\t')\n",
        "\n",
        "print()"
      ]
    },
    {
      "cell_type": "code",
      "source": [
        "booleanos = [True, False]\n",
        "\n",
        "# Tabla de verdad de and\n",
        "print('p\\tq\\tp and q')\n",
        "print('-'*22)\n",
        "for p in booleanos:\n",
        "    for q in booleanos:\n",
        "        print(p, q, p and q, sep = '\\t')\n",
        "\n",
        "print()"
      ],
      "metadata": {
        "colab": {
          "base_uri": "https://localhost:8080/"
        },
        "id": "8o9UqW7gUgKc",
        "outputId": "3d66c7ef-e3ff-4f8b-8e6b-f12ef6c499c5"
      },
      "execution_count": null,
      "outputs": [
        {
          "output_type": "stream",
          "name": "stdout",
          "text": [
            "p\tq\tp and q\n",
            "----------------------\n",
            "True\tTrue\tTrue\n",
            "True\tFalse\tFalse\n",
            "False\tTrue\tFalse\n",
            "False\tFalse\tFalse\n",
            "\n"
          ]
        }
      ]
    },
    {
      "cell_type": "code",
      "source": [
        "# Tabla de verdad de not\n",
        "\n",
        "print('p\\tnot p')\n",
        "print('-'*13)\n",
        "for p in booleanos:\n",
        "    print(p, not p, sep = '\\t')\n",
        "\n",
        "print()"
      ],
      "metadata": {
        "colab": {
          "base_uri": "https://localhost:8080/"
        },
        "id": "lK1UvViXVdcG",
        "outputId": "0dc9cba6-cfb8-4f8b-d1e2-9e32d19e2059"
      },
      "execution_count": null,
      "outputs": [
        {
          "output_type": "stream",
          "name": "stdout",
          "text": [
            "p\tnot p\n",
            "-------------\n",
            "True\tFalse\n",
            "False\tTrue\n",
            "\n"
          ]
        }
      ]
    }
  ]
}